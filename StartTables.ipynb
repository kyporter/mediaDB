{
 "cells": [
  {
   "cell_type": "code",
   "execution_count": 1,
   "metadata": {
    "collapsed": true
   },
   "outputs": [],
   "source": [
    "import sqlite3 as s3"
   ]
  },
  {
   "cell_type": "code",
   "execution_count": 2,
   "metadata": {
    "collapsed": true
   },
   "outputs": [],
   "source": [
    "#start connection\n",
    "conn = s3.connect('testmoviedb.db')"
   ]
  },
  {
   "cell_type": "code",
   "execution_count": 3,
   "metadata": {
    "collapsed": true
   },
   "outputs": [],
   "source": [
    "#create cursor\n",
    "c = conn.cursor()"
   ]
  },
  {
   "cell_type": "code",
   "execution_count": 4,
   "metadata": {},
   "outputs": [],
   "source": [
    "#create tables:\n",
    "#Series\n",
    "c.execute(\"CREATE TABLE Series(s_id INTEGER PRIMARY KEY, series_name text UNIQUE)\")\n",
    "conn.commit()"
   ]
  },
  {
   "cell_type": "code",
   "execution_count": 5,
   "metadata": {
    "collapsed": true
   },
   "outputs": [],
   "source": [
    "#Movies\n",
    "c.execute(\"CREATE TABLE Movies(m_id INTEGER PRIMARY KEY, title text, favorite integer DEFAULT 0, unwatched integer, fs_id integer DEFAULT 0, FOREIGN KEY(fs_id) REFERENCES Series(s_id))\")\n",
    "conn.commit()"
   ]
  },
  {
   "cell_type": "code",
   "execution_count": 6,
   "metadata": {
    "collapsed": true
   },
   "outputs": [],
   "source": [
    "#Genres\n",
    "c.execute(\"CREATE TABLE Genres(g_id INTEGER PRIMARY KEY, genre_name text UNIQUE)\")\n",
    "conn.commit()"
   ]
  },
  {
   "cell_type": "code",
   "execution_count": 7,
   "metadata": {
    "collapsed": true
   },
   "outputs": [],
   "source": [
    "#Movie_is_a\n",
    "c.execute(\"CREATE TABLE Movie_is_a(fm_id integer, fg_id integer, FOREIGN KEY(fm_id) REFERENCES Movies(m_id), FOREIGN KEY(fg_id) REFERENCES Genres(g_id))\")\n",
    "conn.commit()"
   ]
  },
  {
   "cell_type": "code",
   "execution_count": 8,
   "metadata": {
    "collapsed": true
   },
   "outputs": [],
   "source": [
    "#Formats\n",
    "c.execute(\"CREATE TABLE Formats(f_id INTEGER PRIMARY KEY, format_name text UNIQUE)\")\n",
    "conn.commit()"
   ]
  },
  {
   "cell_type": "code",
   "execution_count": 9,
   "metadata": {
    "collapsed": true
   },
   "outputs": [],
   "source": [
    "#Movie_on_a\n",
    "c.execute(\"CREATE TABLE Movie_on_a(fm_id integer, ff_id integer, FOREIGN KEY(fm_id) REFERENCES Movies(m_id), FOREIGN KEY(ff_id) REFERENCES Formats(f_id))\")\n",
    "conn.commit()"
   ]
  },
  {
   "cell_type": "code",
   "execution_count": 10,
   "metadata": {
    "collapsed": true
   },
   "outputs": [],
   "source": [
    "#prepop genres\n",
    "genreList = [('Horror',), ('Comedy',), ('Action',), ('Drama',), ('Science Fiction',), ('Animated',)]\n",
    "c.executemany(\"INSERT INTO Genres(genre_name) Values (?)\", genreList)\n",
    "conn.commit()\n",
    "\n",
    "#prepop formats\n",
    "formatList = [('4K',), ('DVD',), ('VHS',)]\n",
    "c.executemany(\"INSERT INTO Formats(format_name) Values (?)\", formatList)\n",
    "conn.commit()"
   ]
  },
  {
   "cell_type": "code",
   "execution_count": 11,
   "metadata": {
    "collapsed": true
   },
   "outputs": [],
   "source": [
    "conn.close()"
   ]
  },
  {
   "cell_type": "code",
   "execution_count": null,
   "metadata": {
    "collapsed": true
   },
   "outputs": [],
   "source": []
  }
 ],
 "metadata": {
  "kernelspec": {
   "display_name": "Python 3",
   "language": "python",
   "name": "python3"
  },
  "language_info": {
   "codemirror_mode": {
    "name": "ipython",
    "version": 3
   },
   "file_extension": ".py",
   "mimetype": "text/x-python",
   "name": "python",
   "nbconvert_exporter": "python",
   "pygments_lexer": "ipython3",
   "version": "3.6.3"
  }
 },
 "nbformat": 4,
 "nbformat_minor": 2
}
